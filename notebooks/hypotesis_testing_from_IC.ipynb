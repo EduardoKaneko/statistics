{
 "cells": [
  {
   "cell_type": "code",
   "execution_count": 1,
   "metadata": {},
   "outputs": [],
   "source": [
    "import pandas as pd\n",
    "import numpy as np\n",
    "import matplotlib.pyplot as plt\n",
    "\n",
    "%matplotlib inline \n",
    "\n",
    "df = pd.read_csv('coffee_dataset.csv')"
   ]
  },
  {
   "cell_type": "markdown",
   "metadata": {},
   "source": [
    "#### A média da altura de todos os que tomam café é maior do que 70? \n",
    "<br>\n",
    "<div align=\"center\"> $Ho: μ\\le70$ </div>\n",
    "<div align=\"center\"> $Hi: u>70$ </div>\n",
    "<br>\n"
   ]
  },
  {
   "cell_type": "markdown",
   "metadata": {},
   "source": [
    "### First Way:\n",
    "- Using confidence interval and sampling distribution"
   ]
  },
  {
   "cell_type": "code",
   "execution_count": 2,
   "metadata": {},
   "outputs": [],
   "source": [
    "df_sample = df.sample(150)"
   ]
  },
  {
   "cell_type": "code",
   "execution_count": 3,
   "metadata": {},
   "outputs": [],
   "source": [
    "bootsample = df_sample.sample(150, replace=True)"
   ]
  },
  {
   "cell_type": "code",
   "execution_count": 4,
   "metadata": {},
   "outputs": [],
   "source": [
    "means = []\n",
    "for _ in range(10000):\n",
    "    bootsample = df_sample.sample(150, replace=True)\n",
    "    means.append(bootsample.height.mean())"
   ]
  },
  {
   "cell_type": "code",
   "execution_count": 6,
   "metadata": {},
   "outputs": [],
   "source": [
    "# Confidence Interval of 95%\n",
    "# Low = Lower Bound, os 2.5% à esquerda.\n",
    "# Upper = Upper Bound, os 2.5% à direita (100-2.5 = 97.5)\n",
    "low, upper = np.percentile(means, 2.5), np.percentile(means, 97.5)"
   ]
  },
  {
   "cell_type": "code",
   "execution_count": 7,
   "metadata": {},
   "outputs": [
    {
     "data": {
      "image/png": "[encoded data removed]",
      "text/plain": [
       "<Figure size 432x288 with 1 Axes>"
      ]
     },
     "metadata": {},
     "output_type": "display_data"
    }
   ],
   "source": [
    "# Plotting\n",
    "plt.hist(means);\n",
    "plt.axvline(x=low, color='r', linewidth=2);\n",
    "plt.axvline(x=upper, color='r', linewidth=2);"
   ]
  },
  {
   "cell_type": "markdown",
   "metadata": {},
   "source": [
    "### Second Way:\n",
    " - We assumed that the null hypothesis is true\n",
    " - We know what the sampling distribution would like if we simulate from the closest value under the null to the alternative\n",
    " - Assumimos que a hipótese nula é verdade\n",
    " - Sabemos como seria a distribuição de amostragem se simulássemos a partir do valor mais próximo da hipótese nula para a alternativa, que é 70 inches (1,77m)\n",
    " \n",
    "<br>\n",
    "\n",
    "Como seria o desvio padrão se viesse da hipótese nula?"
   ]
  },
  {
   "cell_type": "code",
   "execution_count": null,
   "metadata": {},
   "outputs": [],
   "source": []
  }
 ],
 "metadata": {
  "kernelspec": {
   "display_name": "Python 3",
   "language": "python",
   "name": "python3"
  },
  "language_info": {
   "codemirror_mode": {
    "name": "ipython",
    "version": 3
   },
   "file_extension": ".py",
   "mimetype": "text/x-python",
   "name": "python",
   "nbconvert_exporter": "python",
   "pygments_lexer": "ipython3",
   "version": "3.6.5"
  }
 },
 "nbformat": 4,
 "nbformat_minor": 2
}
